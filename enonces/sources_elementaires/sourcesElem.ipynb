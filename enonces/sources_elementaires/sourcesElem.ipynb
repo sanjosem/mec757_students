{
 "cells": [
  {
   "cell_type": "markdown",
   "metadata": {},
   "source": [
    "# Sources Élémentaires\n",
    "Avec ce TP numérique, nous allons nous familiariser à plusieurs écoulements de bases qui nous serviront à construire la théorie des profils portants.\n",
    "\n",
    "## Objectifs de la séance\n",
    "Comprendre le lien entre les formules mathématiques et la structure des écoulements.\n"
   ]
  },
  {
   "cell_type": "markdown",
   "metadata": {},
   "source": [
    "### Modules python et paramètres pour les graphiques"
   ]
  },
  {
   "cell_type": "code",
   "execution_count": 1,
   "metadata": {},
   "outputs": [],
   "source": [
    "import numpy as np\n",
    "import matplotlib.pyplot as plt"
   ]
  },
  {
   "cell_type": "code",
   "execution_count": 2,
   "metadata": {},
   "outputs": [],
   "source": [
    "plt.rcParams['figure.dpi'] = 100\n",
    "plt.rcParams['font.size'] = 12\n",
    "Ncontours = 25"
   ]
  },
  {
   "cell_type": "markdown",
   "metadata": {},
   "source": [
    "### Exercice 1 - Rappels théoriques\n",
    "1. Listez les hypothèses nécessaires pour pouvoir définir un potentiel de vitesse $\\varphi$ et une fonction de courant $\\psi$ pour décrire le champ de vitesse.\n",
    "2. Donnez les équations qui relient champ potentiel, fonction courant et composantes de vitesse en cartésien."
   ]
  },
  {
   "cell_type": "markdown",
   "metadata": {},
   "source": [
    "### Exercice 2 - Écoulement uniforme\n",
    "On considère un écoulement uniforme tel que $\\vec{V}=V_\\infty \\vec{e}_x$\n",
    "1. Déterminez les fonctions $\\varphi(x,y)$ et $\\psi(x,y)$ qui décrivent cet écoulement"
   ]
  },
  {
   "cell_type": "markdown",
   "metadata": {},
   "source": [
    "2. Construisez les lignes iso-potentielles et iso-courant à l'aide de la fonction `contour` de `matplotlib`"
   ]
  },
  {
   "cell_type": "code",
   "execution_count": 3,
   "metadata": {},
   "outputs": [],
   "source": [
    "nx = 200\n",
    "ny = 250\n",
    "x = np.linspace(-10,10,nx)\n",
    "y = np.linspace(-10,10,ny)\n",
    "X,Y = np.meshgrid(x,y)"
   ]
  },
  {
   "cell_type": "code",
   "execution_count": 4,
   "metadata": {},
   "outputs": [
    {
     "data": {
      "text/plain": [
       "(250, 200)"
      ]
     },
     "execution_count": 4,
     "metadata": {},
     "output_type": "execute_result"
    }
   ],
   "source": [
    "X.shape"
   ]
  },
  {
   "cell_type": "code",
   "execution_count": 5,
   "metadata": {},
   "outputs": [],
   "source": [
    "Vinf = 2.0\n",
    "# PHI = \n",
    "# PSI = "
   ]
  },
  {
   "cell_type": "code",
   "execution_count": 6,
   "metadata": {},
   "outputs": [],
   "source": [
    "# plt.contour(X,Y,PHI,Ncontours,cmap=plt.cm.Blues)\n",
    "# plt.contour(X,Y,PSI,Ncontours,linestyles='dashed',cmap=plt.cm.Reds)\n",
    "# plt.xlabel('x')\n",
    "# plt.ylabel('y')\n",
    "# plt.axis('image')\n",
    "# plt.show()"
   ]
  },
  {
   "cell_type": "markdown",
   "metadata": {},
   "source": [
    "3. Tracez les lignes de courant avec la fonction `streamplot` de `matplotlib`"
   ]
  },
  {
   "cell_type": "code",
   "execution_count": 7,
   "metadata": {},
   "outputs": [],
   "source": [
    "# U = \n",
    "# V = "
   ]
  },
  {
   "cell_type": "code",
   "execution_count": 8,
   "metadata": {
    "scrolled": false
   },
   "outputs": [],
   "source": [
    "# plt.streamplot(X,Y,U,V)\n",
    "# plt.xlabel('x')\n",
    "# plt.ylabel('y')\n",
    "# plt.axis('image')\n",
    "# plt.show()"
   ]
  },
  {
   "cell_type": "markdown",
   "metadata": {},
   "source": [
    "4. L'écoulement uniforme a maintenant une incidence $\\alpha$ par rapport à la direction $\\vec{e}_x$. Retrouvez les nouvelles équations de $\\varphi$ et $\\psi$, et tracez les lignes de courants et potentielles."
   ]
  },
  {
   "cell_type": "code",
   "execution_count": 9,
   "metadata": {},
   "outputs": [],
   "source": [
    "Vinf = 2.0\n",
    "alpha = np.deg2rad(5)\n",
    "# PHI = \n",
    "# PSI = "
   ]
  },
  {
   "cell_type": "code",
   "execution_count": 10,
   "metadata": {},
   "outputs": [],
   "source": [
    "# plt.contour(X,Y,PHI,Ncontours,cmap=plt.cm.Blues)\n",
    "# plt.contour(X,Y,PSI,Ncontours,linestyles='dashed',cmap=plt.cm.Reds)\n",
    "# plt.xlabel('x')\n",
    "# plt.ylabel('y')\n",
    "# plt.axis('image')\n",
    "# plt.show()"
   ]
  },
  {
   "cell_type": "code",
   "execution_count": 11,
   "metadata": {},
   "outputs": [],
   "source": [
    "# U = \n",
    "# V = "
   ]
  },
  {
   "cell_type": "code",
   "execution_count": 12,
   "metadata": {
    "scrolled": false
   },
   "outputs": [],
   "source": [
    "# plt.streamplot(X,Y,U,V)\n",
    "# plt.xlabel('x')\n",
    "# plt.ylabel('y')\n",
    "# plt.axis('image')\n",
    "# plt.show()"
   ]
  },
  {
   "cell_type": "markdown",
   "metadata": {},
   "source": [
    "### Exercice 3 - Source et puits\n",
    "On considère un écoulement de source d'intensité $\\Lambda$ tel que les composantes cartésiennes du champs de vitesse s'écrivent :\n",
    "\\begin{align}\n",
    "u = \\frac{\\Lambda}{2\\pi}\\frac{x}{x^2+y^2}\\\\\n",
    "v = \\frac{\\Lambda}{2\\pi}\\frac{y}{x^2+y^2}\n",
    "\\end{align}\n",
    "1. Déterminez les composantes radiale et tangentielle de cet écoulement"
   ]
  },
  {
   "cell_type": "markdown",
   "metadata": {},
   "source": [
    "2. Tracez les lignes de courant et potentielle"
   ]
  },
  {
   "cell_type": "code",
   "execution_count": 13,
   "metadata": {},
   "outputs": [],
   "source": [
    "nx = 200\n",
    "ny = 250\n",
    "x = np.linspace(-10,10,nx)\n",
    "y = np.linspace(-10,10,ny)\n",
    "X,Y = np.meshgrid(x,y)\n",
    "R = np.sqrt(X**2+Y**2)\n",
    "THETA = np.arctan2(X,Y)"
   ]
  },
  {
   "cell_type": "code",
   "execution_count": 14,
   "metadata": {},
   "outputs": [],
   "source": [
    "L = -1.0\n",
    "# PHI = \n",
    "# PSI = "
   ]
  },
  {
   "cell_type": "code",
   "execution_count": 15,
   "metadata": {},
   "outputs": [],
   "source": [
    "# plt.contour(X,Y,PHI,Ncontours,cmap=plt.cm.Blues)\n",
    "# plt.contour(X,Y,PSI,Ncontours,linestyles='dashed',cmap=plt.cm.Reds)\n",
    "# plt.xlabel('x')\n",
    "# plt.ylabel('y')\n",
    "# plt.axis('image')\n",
    "# plt.show()"
   ]
  },
  {
   "cell_type": "code",
   "execution_count": 16,
   "metadata": {},
   "outputs": [],
   "source": [
    "# U = \n",
    "# V = "
   ]
  },
  {
   "cell_type": "code",
   "execution_count": 17,
   "metadata": {
    "scrolled": false
   },
   "outputs": [],
   "source": [
    "# plt.streamplot(X,Y,U,V)\n",
    "# plt.xlabel('x')\n",
    "# plt.ylabel('y')\n",
    "# plt.axis('image')\n",
    "# plt.show()"
   ]
  },
  {
   "cell_type": "markdown",
   "metadata": {},
   "source": [
    "### Exercice 4 - Écoulement uniforme et source\n",
    "Superposez l'écoulement uniforme et la source."
   ]
  },
  {
   "cell_type": "code",
   "execution_count": 18,
   "metadata": {},
   "outputs": [],
   "source": [
    "nx = 200\n",
    "ny = 250\n",
    "Vinf = 1.0\n",
    "alpha = np.deg2rad(7)\n",
    "L = 10.0\n",
    "x = np.linspace(-10,10,nx)\n",
    "y = np.linspace(-10,10,ny)\n",
    "X,Y = np.meshgrid(x,y)\n",
    "R = np.sqrt(X**2+Y**2)\n",
    "THETA = np.arctan2(X,Y)"
   ]
  },
  {
   "cell_type": "code",
   "execution_count": 19,
   "metadata": {},
   "outputs": [],
   "source": [
    "# U = \n",
    "# V = "
   ]
  },
  {
   "cell_type": "code",
   "execution_count": 20,
   "metadata": {
    "scrolled": false
   },
   "outputs": [],
   "source": [
    "# plt.streamplot(X,Y,U,V,density=[2,2])\n",
    "# plt.xlabel('x')\n",
    "# plt.ylabel('y')\n",
    "# plt.axis('image')\n",
    "# plt.show()"
   ]
  },
  {
   "cell_type": "code",
   "execution_count": null,
   "metadata": {},
   "outputs": [],
   "source": []
  }
 ],
 "metadata": {
  "kernelspec": {
   "display_name": "Python 3",
   "language": "python",
   "name": "python3"
  },
  "language_info": {
   "codemirror_mode": {
    "name": "ipython",
    "version": 3
   },
   "file_extension": ".py",
   "mimetype": "text/x-python",
   "name": "python",
   "nbconvert_exporter": "python",
   "pygments_lexer": "ipython3",
   "version": "3.8.9"
  }
 },
 "nbformat": 4,
 "nbformat_minor": 4
}
