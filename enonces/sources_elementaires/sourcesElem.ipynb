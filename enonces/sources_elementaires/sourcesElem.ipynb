{
 "cells": [
  {
   "cell_type": "markdown",
   "metadata": {},
   "source": [
    "# Sources Élémentaires\n",
    "Avec ce TP numérique, nous allons nous familiariser à plusieurs écoulements de bases qui nous serviront à construire la théorie des profils portants.\n",
    "\n",
    "## Objectifs de la séance\n",
    "Comprendre le lien entre les formules mathématiques et la structure des écoulements.\n"
   ]
  },
  {
   "cell_type": "markdown",
   "metadata": {},
   "source": [
    "### Modules python et paramètres pour les graphiques"
   ]
  },
  {
   "cell_type": "code",
   "execution_count": 1,
   "metadata": {},
   "outputs": [],
   "source": [
    "import numpy as np\n",
    "import matplotlib.pyplot as plt"
   ]
  },
  {
   "cell_type": "code",
   "execution_count": 2,
   "metadata": {},
   "outputs": [],
   "source": [
    "plt.rcParams['figure.dpi'] = 100\n",
    "plt.rcParams['font.size'] = 12\n",
    "Ncontours = 25 # nombre d'iso-contours"
   ]
  },
  {
   "cell_type": "markdown",
   "metadata": {},
   "source": [
    "### Exercice 1 - Rappels théoriques\n",
    "1. Listez les hypothèses nécessaires pour pouvoir définir un potentiel de vitesse $\\varphi$ et une fonction de courant $\\psi$ pour décrire le champ de vitesse."
   ]
  },
  {
   "cell_type": "markdown",
   "metadata": {},
   "source": [
    "* Régime permanent\n",
    "* Fluide parfait\n",
    "* Incompressible\n",
    "* Irrotationnel"
   ]
  },
  {
   "cell_type": "markdown",
   "metadata": {},
   "source": [
    "2. Donnez les équations qui relient champ potentiel, fonction courant et composantes de vitesse en cartésien."
   ]
  },
  {
   "cell_type": "markdown",
   "metadata": {},
   "source": [
    "### Exercice 2 - Écoulement uniforme\n",
    "On considère un écoulement uniforme tel que $\\vec{V}=V_\\infty \\vec{e}_x$\n",
    "1. Déterminez les fonctions $\\varphi(x,y)$ et $\\psi(x,y)$ qui décrivent cet écoulement"
   ]
  },
  {
   "cell_type": "markdown",
   "metadata": {},
   "source": [
    "En cartésien\n",
    "\\begin{align}\n",
    "u & =  \\frac{\\partial \\varphi}{\\partial x} = - \\frac{\\partial \\psi}{\\partial y} \\\\\n",
    "v & =  \\frac{\\partial \\varphi}{\\partial y} = \\frac{\\partial \\psi}{\\partial x}\n",
    "\\end{align}"
   ]
  },
  {
   "cell_type": "markdown",
   "metadata": {},
   "source": [
    "2. Construisez les lignes iso-potentielles et iso-courant à l'aide de la fonction `contour` de `matplotlib`"
   ]
  },
  {
   "cell_type": "code",
   "execution_count": 3,
   "metadata": {},
   "outputs": [],
   "source": [
    "nx = 200\n",
    "ny = 250\n",
    "x = np.linspace(-10,10,nx)\n",
    "y = np.linspace(-10,10,ny)\n",
    "X,Y = np.meshgrid(x,y)"
   ]
  },
  {
   "cell_type": "code",
   "execution_count": 4,
   "metadata": {},
   "outputs": [
    {
     "data": {
      "text/plain": [
       "(250, 200)"
      ]
     },
     "execution_count": 4,
     "metadata": {},
     "output_type": "execute_result"
    }
   ],
   "source": [
    "X.shape"
   ]
  },
  {
   "cell_type": "code",
   "execution_count": 5,
   "metadata": {},
   "outputs": [],
   "source": [
    "Vinf = 2.0\n",
    "# PHI = \n",
    "# PSI = "
   ]
  },
  {
   "cell_type": "code",
   "execution_count": 6,
   "metadata": {},
   "outputs": [],
   "source": [
    "# plt.contour(X,Y,PHI,Ncontours,cmap=plt.cm.Blues)\n",
    "# plt.contour(X,Y,PSI,Ncontours,linestyles='dashed',cmap=plt.cm.Reds)\n",
    "# plt.xlabel('x')\n",
    "# plt.ylabel('y')\n",
    "# plt.axis('image')\n",
    "# plt.show()"
   ]
  },
  {
   "cell_type": "markdown",
   "metadata": {},
   "source": [
    "3. Tracez les lignes de courant avec la fonction `streamplot` de `matplotlib`"
   ]
  },
  {
   "cell_type": "code",
   "execution_count": 7,
   "metadata": {},
   "outputs": [],
   "source": [
    "# U = \n",
    "# V = "
   ]
  },
  {
   "cell_type": "code",
   "execution_count": 8,
   "metadata": {
    "scrolled": false
   },
   "outputs": [],
   "source": [
    "# plt.streamplot(X,Y,U,V)\n",
    "# plt.xlabel('x')\n",
    "# plt.ylabel('y')\n",
    "# plt.axis('image')\n",
    "# plt.show()"
   ]
  },
  {
   "cell_type": "markdown",
   "metadata": {},
   "source": [
    "4. L'écoulement uniforme a maintenant une incidence $\\alpha$ par rapport à la direction $\\vec{e}_x$. Retrouvez les nouvelles équations de $\\varphi$ et $\\psi$, et tracez les lignes de courants et potentielles."
   ]
  },
  {
   "cell_type": "markdown",
   "metadata": {},
   "source": [
    "\\begin{align}\n",
    "u &= V_\\infty \\cos{\\alpha}\\\\\n",
    "v &= V_\\infty \\sin{\\alpha}\\\\\n",
    "\\end{align}\n",
    "par intégration :\n",
    "\\begin{align}\n",
    "\\varphi &= V_\\infty \\cos{(\\alpha)} \\, x + V_\\infty \\sin{(\\alpha)} \\, y \\\\\n",
    "\\psi &= V_\\infty \\sin{(\\alpha)} \\, x - V_\\infty \\cos{(\\alpha)} \\, y\n",
    "\\end{align}"
   ]
  },
  {
   "cell_type": "code",
   "execution_count": 9,
   "metadata": {},
   "outputs": [],
   "source": [
    "Vinf = 2.0\n",
    "alpha = np.deg2rad(5)\n",
    "# PHI = \n",
    "# PSI = "
   ]
  },
  {
   "cell_type": "code",
   "execution_count": 10,
   "metadata": {},
   "outputs": [],
   "source": [
    "# plt.contour(X,Y,PHI,Ncontours,cmap=plt.cm.Blues)\n",
    "# plt.contour(X,Y,PSI,Ncontours,linestyles='dashed',cmap=plt.cm.Reds)\n",
    "# plt.xlabel('x')\n",
    "# plt.ylabel('y')\n",
    "# plt.axis('image')\n",
    "# plt.show()"
   ]
  },
  {
   "cell_type": "code",
   "execution_count": 11,
   "metadata": {},
   "outputs": [],
   "source": [
    "# U = \n",
    "# V = "
   ]
  },
  {
   "cell_type": "code",
   "execution_count": 12,
   "metadata": {
    "scrolled": false
   },
   "outputs": [],
   "source": [
    "# plt.streamplot(X,Y,U,V)\n",
    "# plt.xlabel('x')\n",
    "# plt.ylabel('y')\n",
    "# plt.axis('image')\n",
    "# plt.show()"
   ]
  },
  {
   "cell_type": "markdown",
   "metadata": {},
   "source": [
    "### Exercice 3 - Source et puits\n",
    "On considère un écoulement de source d'intensité $\\Lambda$ tel que les composantes cartésiennes du champs de vitesse s'écrivent :\n",
    "\\begin{align}\n",
    "u = \\frac{\\Lambda}{2\\pi}\\frac{x}{x^2+y^2}\\\\\n",
    "v = \\frac{\\Lambda}{2\\pi}\\frac{y}{x^2+y^2}\n",
    "\\end{align}\n",
    "1. Déterminez les composantes radiale et tangentielle de cet écoulement"
   ]
  },
  {
   "cell_type": "markdown",
   "metadata": {},
   "source": [
    "\\begin{align}\n",
    "u_r &= \\frac{\\Lambda}{2\\pi \\, r} &=& \\frac{\\partial \\varphi}{\\partial r} &=& -\\frac{1}{r}\\frac{\\partial \\psi}{\\partial \\theta}\\\\\n",
    "u_\\theta &= 0 &=&\\frac{1}{r}\\frac{\\partial \\varphi}{\\partial \\theta} &=& \\frac{\\partial \\psi}{\\partial r}\n",
    "\\end{align}\n",
    "d'où\n",
    "\\begin{align}\n",
    "\\varphi &= \\frac{\\Lambda}{2\\pi} \\ln{r} \\\\\n",
    "\\psi &= -\\frac{\\Lambda}{2\\pi} \\theta\n",
    "\\end{align}"
   ]
  },
  {
   "cell_type": "markdown",
   "metadata": {},
   "source": [
    "2. Tracez les lignes de courant et potentielle"
   ]
  },
  {
   "cell_type": "code",
   "execution_count": 13,
   "metadata": {},
   "outputs": [],
   "source": [
    "nx = 200\n",
    "ny = 250\n",
    "x = np.linspace(-10,10,nx)\n",
    "y = np.linspace(-10,10,ny)\n",
    "X,Y = np.meshgrid(x,y)\n",
    "R = np.sqrt(X**2+Y**2)\n",
    "THETA = np.arctan2(Y,X)"
   ]
  },
  {
   "cell_type": "code",
   "execution_count": 14,
   "metadata": {},
   "outputs": [],
   "source": [
    "L = 1.0\n",
    "# PHI = \n",
    "# PSI = "
   ]
  },
  {
   "cell_type": "code",
   "execution_count": 15,
   "metadata": {},
   "outputs": [],
   "source": [
    "# plt.contour(X,Y,PHI,Ncontours,cmap=plt.cm.Blues)\n",
    "# plt.contour(X,Y,PSI,Ncontours,linestyles='dashed',cmap=plt.cm.Reds)\n",
    "# plt.xlabel('x')\n",
    "# plt.ylabel('y')\n",
    "# plt.axis('image')\n",
    "# plt.show()"
   ]
  },
  {
   "cell_type": "code",
   "execution_count": 16,
   "metadata": {},
   "outputs": [],
   "source": [
    "# U = \n",
    "# V = "
   ]
  },
  {
   "cell_type": "code",
   "execution_count": 17,
   "metadata": {
    "scrolled": false
   },
   "outputs": [],
   "source": [
    "# plt.streamplot(X,Y,U,V)\n",
    "# plt.xlabel('x')\n",
    "# plt.ylabel('y')\n",
    "# plt.axis('image')\n",
    "# plt.show()"
   ]
  },
  {
   "cell_type": "markdown",
   "metadata": {},
   "source": [
    "### Exercice 4 - Écoulement uniforme et source\n",
    "Superposez l'écoulement uniforme et la source."
   ]
  },
  {
   "cell_type": "code",
   "execution_count": 18,
   "metadata": {},
   "outputs": [],
   "source": [
    "nx = 300\n",
    "ny = 250\n",
    "Vinf = 1.0\n",
    "alpha = np.deg2rad(7)\n",
    "L = 10.0\n",
    "x = np.linspace(-20,20,nx)\n",
    "y = np.linspace(-10,10,ny)\n",
    "X,Y = np.meshgrid(x,y)\n",
    "R = np.sqrt(X**2+Y**2)\n",
    "THETA = np.arctan2(Y,X)"
   ]
  },
  {
   "cell_type": "markdown",
   "metadata": {},
   "source": [
    "L'écoulement uniforme"
   ]
  },
  {
   "cell_type": "code",
   "execution_count": 19,
   "metadata": {},
   "outputs": [],
   "source": [
    "# PHI1 = \n",
    "# PSI1 = \n",
    "# U1 = \n",
    "# V1 = "
   ]
  },
  {
   "cell_type": "markdown",
   "metadata": {},
   "source": [
    "Une source en (0,0)"
   ]
  },
  {
   "cell_type": "code",
   "execution_count": 20,
   "metadata": {},
   "outputs": [],
   "source": [
    "# PHI2 = \n",
    "# PSI2 = \n",
    "# U2 = \n",
    "# V2 = "
   ]
  },
  {
   "cell_type": "markdown",
   "metadata": {},
   "source": [
    "Principe de superposition"
   ]
  },
  {
   "cell_type": "code",
   "execution_count": 21,
   "metadata": {},
   "outputs": [],
   "source": [
    "# PHI = \n",
    "# PSI = \n",
    "# U =\n",
    "# V ="
   ]
  },
  {
   "cell_type": "code",
   "execution_count": 22,
   "metadata": {},
   "outputs": [],
   "source": [
    "# plt.contour(X,Y,PHI,Ncontours,cmap=plt.cm.Blues)\n",
    "# plt.contour(X,Y,PSI,Ncontours,linestyles='dashed',cmap=plt.cm.Reds)\n",
    "# plt.xlabel('x')\n",
    "# plt.ylabel('y')\n",
    "# plt.axis('image')\n",
    "# plt.show()"
   ]
  },
  {
   "cell_type": "code",
   "execution_count": 23,
   "metadata": {
    "scrolled": false
   },
   "outputs": [],
   "source": [
    "# plt.streamplot(X,Y,U,V,density=[1.5,1.5])\n",
    "# plt.xlabel('x')\n",
    "# plt.ylabel('y')\n",
    "# plt.axis('image')\n",
    "# plt.show()"
   ]
  }
 ],
 "metadata": {
  "kernelspec": {
   "display_name": "Python 3",
   "language": "python",
   "name": "python3"
  },
  "language_info": {
   "codemirror_mode": {
    "name": "ipython",
    "version": 3
   },
   "file_extension": ".py",
   "mimetype": "text/x-python",
   "name": "python",
   "nbconvert_exporter": "python",
   "pygments_lexer": "ipython3",
   "version": "3.8.9"
  }
 },
 "nbformat": 4,
 "nbformat_minor": 4
}
