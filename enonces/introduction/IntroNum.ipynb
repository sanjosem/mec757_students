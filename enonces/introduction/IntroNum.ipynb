{
 "cells": [
  {
   "cell_type": "markdown",
   "metadata": {},
   "source": [
    "# Introduction aux outils numériques\n",
    "\n",
    "Nous allons faire un survol de quelques commandes que nous utiliserons dans les autres TP numériques. \n",
    "\n",
    "## Objectifs de cette séance\n",
    "\n",
    "Que vous ayez une formation de base en Matlab, en Python, ou aucun souvenir de programmation, nous allons réaliser des opérations simples que nous employerons sur des problèmes d'aérodynamique par la suite. \n",
    "\n",
    "Réalisez les exercices dans ce notebook pour vous familiariser avec les commandes python.\n",
    "\n",
    "## Modules\n",
    "\n",
    "Comme Matlab, Python est langage interprété. Il n'y a pas besoin de déclarer les variables, ni de compiler le code.  On s'appuie sur des fonctions pré-compilées pour rendre les opérations de calcul efficace. \n",
    "\n",
    "Il existe un grand nombre de fonctions précompilées pour python, mais toutes ne chargées automatiquement. Il faut donc toujours importer ce dont on a besoin. On charge des modules. Dans le cadre de ce cours, nous aurons besoin principalement de `numpy` pour les manipulation de tableaux, `matplotlib` pour les tracés de courbes. Pour le calcul symbolique (en remplacement de la TI) nous utiliserons `sympy`. Pour le chargement de fichiers dans le cadre du projet nous utiliserons le module `pandas`.\n",
    "\n",
    "[NumPy](https://numpy.org/doc/stable/user/basics.html) est une bibliothèque d'objets et de fonctions adaptés au calcul vectoriel c'est-à-dire à des opérations sur des listes ou tableaux (N-dimensions) homogènes de nombres (_array_). Grace à cette bibliothèque, les opérations principales que l'on réalise avec Matlab sont réalisable sous Python. Souvent les fonctions ont le même nom. \n",
    "\n",
    "[MatplotLib](https://matplotlib.org/stable/tutorials/introductory/usage.html) est une bibliothèque d'objets et de fonctions pour réaliser des représentations graphiques 2D comme dans Matlab (et certainement même plus !). On utilise le sous-module `pyplot` qui contient tout ce dont on a besoin.\n",
    "\n",
    "[SymPy](https://docs.sympy.org/latest/tutorial/index.html#tutorial) est une bibliothèque d'objets et de fonctions pour réaliser des calculs mathématiques symboliques. ous utiliserons notamment les intégrations de fonctions mathématiques dans le cadre de la théorie des profils minces. \n",
    "\n",
    "[Pandas](https://pandas.pydata.org/docs/getting_started/index.html) est une bibliothèque d'objets et de fonctions pour traiter des données sous forme de tableaux colonne. C'est un peu comme un tableau excel dans Python. En particulier, nous l'utiliserons pour charger des fichiers `*.csv`.\n",
    "\n",
    "## Chargement d'un module ou sous module\n",
    "\n",
    "Pour charger un module, on utilise la fonction `import` et on lui donne un petit nom pour raccourcir nos appels. "
   ]
  },
  {
   "cell_type": "code",
   "execution_count": 1,
   "metadata": {},
   "outputs": [],
   "source": [
    "import numpy as np\n",
    "import matplotlib.pyplot as plt"
   ]
  },
  {
   "cell_type": "markdown",
   "metadata": {},
   "source": [
    "Pour avoir des graphiques de bonne qualité, nous utilisons les paramètres suivants."
   ]
  },
  {
   "cell_type": "code",
   "execution_count": 2,
   "metadata": {},
   "outputs": [],
   "source": [
    "plt.rcParams['figure.autolayout'] = True\n",
    "plt.rcParams['figure.dpi'] = 100\n",
    "plt.rcParams['font.size'] = 12"
   ]
  },
  {
   "cell_type": "markdown",
   "metadata": {},
   "source": [
    "Voilà vous êtes prêt ! "
   ]
  },
  {
   "cell_type": "markdown",
   "metadata": {},
   "source": [
    "## Exercice 1 - Intersection de deux droites\n",
    "\n",
    "On souhaite calculer le point d'intersection de deux droites définies par les équations suivantes : \n",
    "\\begin{equation}\n",
    "y = 2 x -5 \\hspace{2cm} \\text{et} \\hspace{2cm} \n",
    "y = -x + 3\n",
    "\\end{equation}\n",
    "\n",
    "1. Construisez les tableaux suivants : \n",
    "  * `x` de 20 points uniformément répartis de -5 à 5. Utilisez la fonction `linspace` de `numpy`.\n",
    "  * `y1` et `y2` les ordonnées des points aux abscisses `x` des points sur les droites 1 et 2. "
   ]
  },
  {
   "cell_type": "code",
   "execution_count": null,
   "metadata": {},
   "outputs": [],
   "source": []
  },
  {
   "cell_type": "markdown",
   "metadata": {},
   "source": [
    "2. Tracez les deux droites ainsi définies : \n",
    "  * La droite 1 en bleu, la droite 2 en rouge et en pointillés.\n",
    "  * Affichez une grille, une légende et des labels sur les axes."
   ]
  },
  {
   "cell_type": "code",
   "execution_count": null,
   "metadata": {},
   "outputs": [],
   "source": []
  },
  {
   "cell_type": "markdown",
   "metadata": {},
   "source": [
    "3. Définissez le problème matriciel $M X = B$ à résoudre pour trouver l'intersection des droites et créez les tableaux numpy `M` et `B`. Utilisez la fonction `array`, vérifiez les formes avec `shape` et utilisez `reshape` pour corriger. "
   ]
  },
  {
   "cell_type": "code",
   "execution_count": null,
   "metadata": {},
   "outputs": [],
   "source": []
  },
  {
   "cell_type": "markdown",
   "metadata": {},
   "source": [
    "4. Résolvez le problème en utilisant le sous-module d'algèbre linéaire [`linalg`](https://numpy.org/doc/stable/reference/routines.linalg.html#solving-equations-and-inverting-matrices) de `numpy`. Le produit matriciel (`dot`) est implémenté avec le symbole `@`"
   ]
  },
  {
   "cell_type": "code",
   "execution_count": null,
   "metadata": {},
   "outputs": [],
   "source": []
  },
  {
   "cell_type": "markdown",
   "metadata": {},
   "source": [
    "5. Reprennez la figure de la question 2 et ajoutez le point d'intersection avec un symbole vert. Si l'intersection n'est pas correcte, vérifiez vos matrices et leurs formes. Enregistrez la figure sous un format image. "
   ]
  },
  {
   "cell_type": "code",
   "execution_count": null,
   "metadata": {},
   "outputs": [],
   "source": []
  },
  {
   "cell_type": "markdown",
   "metadata": {},
   "source": [
    "## Exercice 2 - Les profils NACA 4 chiffres symmétriques\n",
    "\n",
    "Les profils NACA sont des formes d'aile testées par le [National Advisory Committee for Aeronautics](https://fr.wikipedia.org/wiki/National_Advisory_Committee_for_Aeronautics). C'est des profils dont la forme correspond à une équation mathématique dont les formes sont paramétrées et dont les coefficients aérodynamiques en fonction de l'incidence (angle d'attaque) ont été mesurés de manière systématique en soufflerie. \n",
    "\n",
    "Ici on s'intéressera aux profils dits 4 chiffres symmétrique `NACA00XX`. Il sont définis par 2 paramètres : \n",
    "  * La corde du profil $c$ (distance bord d'attaque/bord de fuite).\n",
    "  * L'épaisseur maximale du profil est caractérisée par le paramètre $t$ qui est un pourcentage de la corde : \n",
    "\\begin{equation}\n",
    "t = \\frac{\\texttt{XX}}{100}\n",
    "\\end{equation}\n",
    "\n",
    "On définit la coordoonnée $x_c$ qui varie de 0 à 1 le long de la corde. La demi-épaisseur du profil $y_t$ (distance entre ses deux côtés) est alors paramétrée en fonction de cette coordonnée par l'équation suivante : \n",
    "\\begin{equation}\n",
    "y_t = 5 t \\left( 0.2969 \\sqrt{x_c} - 0.1260 \\,  x_c - 0.3516 \\, x_c^2 + 0.2843 \\, x_c^3 - 0.1036 \\, x_c^4\\right)\n",
    "\\end{equation}\n",
    "\n",
    "Ainsi un profil dont la forme pourra être obtenue grace au deux courbes (redimmensionnées): \n",
    "\n",
    "\\begin{align}\n",
    "x_{up} &= x_c \\, c   & et \\hspace{1cm}  y_{up} &= + y_t \\, c \\\\\n",
    "x_{down} &= x_c \\, c  & et \\hspace{1cm}  y_{down} &= - y_t \\, c \n",
    "\\end{align}\n",
    "\n",
    "Pour les questions suivantes, n'hésitez pas à contacter l'enseignant. Les questions sont choisies pour vous faire réfléchir et découvrir des options des modules."
   ]
  },
  {
   "cell_type": "markdown",
   "metadata": {},
   "source": [
    "1. Construisez et tracez le profil NACA0012 de corde 12 cm avec 15 points de chaque côté. "
   ]
  },
  {
   "cell_type": "code",
   "execution_count": 3,
   "metadata": {},
   "outputs": [],
   "source": [
    "# # Parametres du profil\n",
    "# corde = \n",
    "# chiffres34 = \n",
    "# coeff_naca = [0.2969,-0.1260,-0.3516,0.2843,-0.1036]\n",
    "# pow_naca = [0.5,1,2,3,4]\n",
    "# # Parametre de discretisation\n",
    "# npts = "
   ]
  },
  {
   "cell_type": "code",
   "execution_count": 4,
   "metadata": {},
   "outputs": [],
   "source": [
    "# # Coordonnees de corde xc\n",
    "# xc = \n",
    "# # Fonction yt\n",
    "# yt = np.zeros_like(xc)\n",
    "# for i in range(len(coeff_naca)):\n",
    "#     yt += \n",
    "# yt *= "
   ]
  },
  {
   "cell_type": "code",
   "execution_count": 5,
   "metadata": {},
   "outputs": [],
   "source": [
    "# # Extrados xup, yup\n",
    "# xup = \n",
    "# yup = \n",
    "# # Intrados xdown,ydown\n",
    "# xdown = \n",
    "# ydown = "
   ]
  },
  {
   "cell_type": "markdown",
   "metadata": {},
   "source": [
    "2. Déterminez l'épaisseur maximum obtenue et la position sur la corde où ce point est atteint. Que pouvez vous dire ?"
   ]
  },
  {
   "cell_type": "code",
   "execution_count": 6,
   "metadata": {},
   "outputs": [],
   "source": [
    "# # Epaisseur yup-ydown\n",
    "# thickness = \n",
    "# # Maximum et position le long de la corde\n"
   ]
  },
  {
   "cell_type": "markdown",
   "metadata": {},
   "source": [
    "3. Tracez le profil, ajoutez une legende (extrados/intrados), une grille, des labels aux axes et un titre"
   ]
  },
  {
   "cell_type": "code",
   "execution_count": 7,
   "metadata": {},
   "outputs": [],
   "source": [
    "# Trace dimensionnel \n"
   ]
  },
  {
   "cell_type": "markdown",
   "metadata": {},
   "source": [
    "4. Chargez les coordonnées du NACA 0012 du fichier `naca0012.txt` avec la fonction `loadtxt` de numpy, puis comparez votre profil construit précédemment à ces données."
   ]
  },
  {
   "cell_type": "code",
   "execution_count": null,
   "metadata": {},
   "outputs": [],
   "source": []
  },
  {
   "cell_type": "code",
   "execution_count": null,
   "metadata": {},
   "outputs": [],
   "source": []
  },
  {
   "cell_type": "markdown",
   "metadata": {},
   "source": [
    "## Exercice 3 - Calcul symbolique\n",
    "\n",
    "Si vous n'avez pas de TI, sachez que le module [SymPy](https://www.sympy.org) vous permet de faire du calcul symbolique. Nous allons voir quelques fonction de base qui pourront vous être pour la théorie 2D et 3D des profils. \n",
    "\n",
    "À nouveau tout d'abord il faut l'importer. On active l'affichage sous forme formel."
   ]
  },
  {
   "cell_type": "code",
   "execution_count": 8,
   "metadata": {},
   "outputs": [
    {
     "ename": "ModuleNotFoundError",
     "evalue": "No module named 'sympy'",
     "output_type": "error",
     "traceback": [
      "\u001b[0;31m---------------------------------------------------------------------------\u001b[0m",
      "\u001b[0;31mModuleNotFoundError\u001b[0m                       Traceback (most recent call last)",
      "\u001b[0;32m<ipython-input-8-c7aae0caa08a>\u001b[0m in \u001b[0;36m<module>\u001b[0;34m\u001b[0m\n\u001b[0;32m----> 1\u001b[0;31m \u001b[0;32mimport\u001b[0m \u001b[0msympy\u001b[0m \u001b[0;32mas\u001b[0m \u001b[0msb\u001b[0m\u001b[0;34m\u001b[0m\u001b[0;34m\u001b[0m\u001b[0m\n\u001b[0m\u001b[1;32m      2\u001b[0m \u001b[0msb\u001b[0m\u001b[0;34m.\u001b[0m\u001b[0minit_printing\u001b[0m\u001b[0;34m(\u001b[0m\u001b[0;34m)\u001b[0m\u001b[0;34m\u001b[0m\u001b[0;34m\u001b[0m\u001b[0m\n",
      "\u001b[0;31mModuleNotFoundError\u001b[0m: No module named 'sympy'"
     ]
    }
   ],
   "source": [
    "import sympy as sb\n",
    "sb.init_printing()"
   ]
  },
  {
   "cell_type": "markdown",
   "metadata": {},
   "source": [
    "On souhaite calculer la dérivée et la primitive de la fonction suivante : \n",
    "\\begin{align}\n",
    " \\int{{\\left(\\cos{\\theta}\\right)}^3 \\, d\\theta}\n",
    "\\end{align}"
   ]
  },
  {
   "cell_type": "markdown",
   "metadata": {},
   "source": [
    "1. Les variables formelles sont des objets de type `Symbol`. Définissez le symbole $\\theta$."
   ]
  },
  {
   "cell_type": "code",
   "execution_count": null,
   "metadata": {},
   "outputs": [],
   "source": []
  },
  {
   "cell_type": "markdown",
   "metadata": {},
   "source": [
    "2. Calculez la primitive de ${\\left(\\cos{\\theta}\\right)}^3$ à l'aide de la fonction `integrate`. "
   ]
  },
  {
   "cell_type": "code",
   "execution_count": null,
   "metadata": {},
   "outputs": [],
   "source": []
  },
  {
   "cell_type": "markdown",
   "metadata": {},
   "source": [
    "## Exercice 4 - Lecture d'un tableau\n",
    "\n",
    "On appelle polaire le tracé $C_L=f(C_D)$ pour un profil donné obtenu en obtenant les valeurs de coefficients aérodynamiques pour plusieurs angles d'incidence. "
   ]
  },
  {
   "cell_type": "code",
   "execution_count": null,
   "metadata": {},
   "outputs": [],
   "source": [
    "import pandas as pd"
   ]
  },
  {
   "cell_type": "markdown",
   "metadata": {},
   "source": [
    "1. En utilisant la fonction `read_csv` du module `pandas`, chargez les données pour le profil NACA0012 fourni dans le fichier `xf-n0012-il-50000.csv`"
   ]
  },
  {
   "cell_type": "code",
   "execution_count": null,
   "metadata": {},
   "outputs": [],
   "source": []
  },
  {
   "cell_type": "markdown",
   "metadata": {},
   "source": [
    "2. Tracez sur des graphiques séparés $C_L = f(\\alpha)$, puis  $C_D = f(\\alpha)$, puis  $C_L = f(C_D)$."
   ]
  },
  {
   "cell_type": "code",
   "execution_count": null,
   "metadata": {},
   "outputs": [],
   "source": []
  },
  {
   "cell_type": "code",
   "execution_count": null,
   "metadata": {},
   "outputs": [],
   "source": []
  },
  {
   "cell_type": "code",
   "execution_count": null,
   "metadata": {},
   "outputs": [],
   "source": []
  },
  {
   "cell_type": "code",
   "execution_count": null,
   "metadata": {},
   "outputs": [],
   "source": []
  },
  {
   "cell_type": "markdown",
   "metadata": {},
   "source": [
    "## Exercice 5 - Tracés de lignes de courant\n",
    "\n",
    "Nous allons souvent représenter un champ d'écoulement plan avec ses lignes de courant. C'est ce que nous allons voir. "
   ]
  },
  {
   "cell_type": "markdown",
   "metadata": {},
   "source": [
    "1. Nous créons une grille régulière entre les coordonnées du plan (-10,-10) et (10,10). Du module `numpy`, nous utilisons `linspace` pour créer les discrétisations régulières et `meshgrid` pour créer la grille. "
   ]
  },
  {
   "cell_type": "code",
   "execution_count": null,
   "metadata": {},
   "outputs": [],
   "source": []
  },
  {
   "cell_type": "markdown",
   "metadata": {},
   "source": [
    "2. Nous créons le champs de  vitesse suivant : \n",
    "\\begin{align}\n",
    "\\vec{V} = \\left\\{\\begin{matrix}\n",
    "u &= -x\\\\\n",
    "v &= y\n",
    "\\end{matrix}\\right.\n",
    "\\end{align}"
   ]
  },
  {
   "cell_type": "markdown",
   "metadata": {},
   "source": [
    "3. Nous traçons les lignes de courant avec `streamplot` de `matplotlib`"
   ]
  }
 ],
 "metadata": {
  "kernelspec": {
   "display_name": "Python 3",
   "language": "python",
   "name": "python3"
  },
  "language_info": {
   "codemirror_mode": {
    "name": "ipython",
    "version": 3
   },
   "file_extension": ".py",
   "mimetype": "text/x-python",
   "name": "python",
   "nbconvert_exporter": "python",
   "pygments_lexer": "ipython3",
   "version": "3.8.10"
  }
 },
 "nbformat": 4,
 "nbformat_minor": 4
}
