{
 "cells": [
  {
   "cell_type": "markdown",
   "metadata": {},
   "source": [
    "# Superposition d'écoulements\n",
    "Avec ce TP numérique, nous allons implémenter les écoulements vus en classe et construire des écoulements plus complexes grace au principe de superposition.\n",
    "\n",
    "## Objectifs de la séance\n",
    "Comprendre le lien entre la pression, le champ de vitesse et la generation de la portance sur une forme.\n",
    "\n",
    "\n",
    "**NB**: Notez que pour se simplifier la programmation, on n'utilisera pas d'incidence dans le TD d'aujourd'hui. "
   ]
  },
  {
   "cell_type": "markdown",
   "metadata": {},
   "source": [
    "### Modules python et paramètres pour les graphiques"
   ]
  },
  {
   "cell_type": "code",
   "execution_count": null,
   "metadata": {},
   "outputs": [],
   "source": [
    "# Ce module permet de recharger facilement le module banque_ecoulements après vos modifications.\n",
    "import importlib"
   ]
  },
  {
   "cell_type": "code",
   "execution_count": null,
   "metadata": {},
   "outputs": [],
   "source": [
    "import numpy as np\n",
    "import matplotlib.pyplot as plt"
   ]
  },
  {
   "cell_type": "code",
   "execution_count": null,
   "metadata": {},
   "outputs": [],
   "source": [
    "%matplotlib inline\n",
    "from matplotlib_inline.backend_inline import set_matplotlib_formats\n",
    "set_matplotlib_formats('png','pdf')"
   ]
  },
  {
   "cell_type": "markdown",
   "metadata": {},
   "source": [
    "En plus des modules de base, nous utiliserons le module `helper_plot_ecoulement` qui contient les fonctions utiles employées de la séance précédente pour les tracés. Vérifiez leur utilisation. \n",
    "\n",
    "  * `plot_contours_phi_psi`\n",
    "  * `plot_lignes_courant`\n",
    "  * `plot_champs`\n",
    "  \n",
    "D'autre part, les écoulements élémentaires ainsi que leur génération et superposition sur une grille du plan sont implémentés dans le module `banque_ecoulements`. Vous devez aller découvrir les fonctions et compléter les formules vues en cours. \n",
    "\n",
    "  * Les fonctions de maillage `create_2Dgrid_cart` et `create_2Dgrid_cyl` retournent un dictionnaire avec les champs `x`et `y` qui contiennent les matrices pour les tracés dans le plan. \n",
    "  * Les fonctions de génération de l'écoulement `uniform`, `source`, `dipole`, `tourbillon` et `superpose_ecoulement` retournent un dictionnaire avec les champs `phi`, `psi`, `ur`, `ut`, `u` et `v`qui correspondent aux champs sur la grille spécifiée de la fonction potentiel de vitesse $\\varphi$, la fonction courant $\\psi$. les composantes de vitesse en polaire $(u_r, u_\\theta)$ et en cartésien $(u,v)$. \n",
    "  \n",
    "Vous devez implémenter les formules pour le dipole et le tourbillon vu en cours. \n",
    "\n"
   ]
  },
  {
   "cell_type": "code",
   "execution_count": null,
   "metadata": {},
   "outputs": [],
   "source": [
    "import module.banque_ecoulements as bq\n",
    "import module.helper_plot_ecoulement as pl\n",
    "pl.set_nice_plot_params()\n",
    "Ncontours = 25"
   ]
  },
  {
   "cell_type": "markdown",
   "metadata": {},
   "source": [
    "**Attention** Si vous modifiez le module `banque_ecoulement.py`, vous devez recharger le module en exécutant la cellule ci-dessous. "
   ]
  },
  {
   "cell_type": "code",
   "execution_count": null,
   "metadata": {},
   "outputs": [],
   "source": [
    "_ = importlib.reload(bq)"
   ]
  },
  {
   "cell_type": "markdown",
   "metadata": {},
   "source": [
    "### Exercice 1 - Comprendre le fonctionnement du module"
   ]
  },
  {
   "cell_type": "markdown",
   "metadata": {},
   "source": [
    "1. Ouvrez le fichier `banque_ecoulement.py` et essayer de comprendre l'utilisation qui en est faite ci-dessous. \n",
    "2. Des fonctions de tracés sont proposées dans le module `helper_plot_ecoulement.py`. Regardez l'usage qui en est fait.\n",
    "  * `pl.plot_contours_phi_psi`\n",
    "  * `pl.plot_lignes_courant`\n",
    "  * `pl.plot_champs`\n",
    "\n",
    "3. Modifiez les paramètres de définitions de la grille ou de l'écoulement\n",
    "4. Lorsque vous êtes suffisamment initié, complétez les écoulements de la banque en éditant le fichier `banque_ecoulement.py` et testez les ! Après modification du module, n'oubliez pas d'executer la cellule juste avant l'exercice 1 (`reload`) "
   ]
  },
  {
   "cell_type": "code",
   "execution_count": null,
   "metadata": {},
   "outputs": [],
   "source": [
    "grid = bq.create_2Dgrid_cart()"
   ]
  },
  {
   "cell_type": "code",
   "execution_count": null,
   "metadata": {},
   "outputs": [],
   "source": [
    "Vinf = 2.0\n",
    "L = 5.0\n",
    "d0 = 0.2\n",
    "Ga = 2.0\n",
    "Ka = 5.0"
   ]
  },
  {
   "cell_type": "code",
   "execution_count": null,
   "metadata": {},
   "outputs": [],
   "source": [
    "unif = bq.uniform(grid,Vinf)\n",
    "source = bq.source(grid,L,center=[-d0,0.])\n",
    "tourbillon = bq.tourbillon(grid,Ga,center=[-d0,0.])\n",
    "src_unif = bq.superpose_ecoulement(unif,source,grid)\n",
    "src_unif_vort = bq.superpose_ecoulement(src_unif,tourbillon,grid)"
   ]
  },
  {
   "cell_type": "code",
   "execution_count": null,
   "metadata": {},
   "outputs": [],
   "source": [
    "unif = bq.uniform(grid,Vinf)\n",
    "dipole = bq.dipole(grid,Ka)\n",
    "unif_dip = bq.superpose_ecoulement(unif,dipole,grid)"
   ]
  },
  {
   "cell_type": "code",
   "execution_count": null,
   "metadata": {},
   "outputs": [],
   "source": [
    "pl.plot_contours_phi_psi(grid,src_unif_vort,titre='Source + Uniforme + Vortex',\n",
    "                         Ncontours=Ncontours,isoPsi=[-L/2,L/2.])"
   ]
  },
  {
   "cell_type": "code",
   "execution_count": null,
   "metadata": {},
   "outputs": [],
   "source": [
    "pl.plot_contours_phi_psi(grid,unif_dip,titre='Uniforme + Dip',\n",
    "                         Ncontours=200,isoPsi=[0.])"
   ]
  },
  {
   "cell_type": "code",
   "execution_count": null,
   "metadata": {},
   "outputs": [],
   "source": [
    "pl.plot_lignes_courant(grid,src_unif,titre='Source + Uniforme',isoPsi=[-L/2,L/2.])"
   ]
  },
  {
   "cell_type": "code",
   "execution_count": null,
   "metadata": {},
   "outputs": [],
   "source": [
    "pl.plot_champs(grid,src_unif,'u',titre='Source + Uniforme',isoPsi=[-L/2,L/2.])"
   ]
  },
  {
   "cell_type": "code",
   "execution_count": null,
   "metadata": {},
   "outputs": [],
   "source": [
    "pl.plot_champs(grid,src_unif,np.sqrt(src_unif['u']**2+src_unif['v']**2),\n",
    "               titre='Source + Uniforme',isoPsi=[-L/2,L/2.],legend='Norme Vitesse',range=[0.,5.0])"
   ]
  },
  {
   "cell_type": "markdown",
   "metadata": {},
   "source": [
    "### Exercice 2 - Écoulement autour d'un cylindre\n",
    "1. Créez un écoulement de vitesse $V_\\infty=2.0\\text{ m}$ autour d'un cylindre de rayon $R_0=0.5 \\text{ m}$. Il n'y a pas de circulation. \n",
    "2. Visualisez les lignes de courant et les lignes potentielles.\n",
    "3. Visualisez le champ de vitesse et le champ de pression.\n",
    "4. Créez une grille correspondant à la surface du cylindre et évaluez l'écoulement sur cette grille.\n",
    "5. Tracez la norme de la vitesse et le coefficient de pression $C_p$ sur la peau du cercle. "
   ]
  },
  {
   "cell_type": "markdown",
   "metadata": {},
   "source": [
    "### Exercice 3 - Écoulement autour d'un cylindre et forces aérodynamique\n",
    "1. Ajoutez une circulation à cet écoulement.\n",
    "2. Visualisez les lignes de courant et les lignes potentielles.\n",
    "3. Visualisez le champ de vitesse et le champ de pression.\n",
    "4. Créer une grille correspondant à la surface du cylindre et évaluez l'écoulement sur cette grille.\n",
    "5. Tracez la norme de la vitesse et le coefficient de pression $C_p$ sur la peau du cercle. Calculez les coefficients de portance et trainée sur le cylindre. On utilisera l'intégration numérique de la méthode des trapèzes fournie par la fonction `np.trapz`\n",
    "6. Faites varier l'intensité de la circulation et reprennez les étapes précédentes.\n"
   ]
  }
 ],
 "metadata": {
  "kernelspec": {
   "display_name": "Python 3 (ipykernel)",
   "language": "python",
   "name": "python3"
  },
  "language_info": {
   "codemirror_mode": {
    "name": "ipython",
    "version": 3
   },
   "file_extension": ".py",
   "mimetype": "text/x-python",
   "name": "python",
   "nbconvert_exporter": "python",
   "pygments_lexer": "ipython3",
   "version": "3.11.8"
  }
 },
 "nbformat": 4,
 "nbformat_minor": 4
}
